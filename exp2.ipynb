{
 "cells": [
  {
   "cell_type": "markdown",
   "id": "57b6507b",
   "metadata": {},
   "source": [
    "###  1. Write a function that takes a string as a parameter and returns a string with every successive repetitive character replaced with a star(*). For Example,‘balloon’ is returned as ‘bal*o*n’."
   ]
  },
  {
   "cell_type": "code",
   "execution_count": 1,
   "id": "221c9a94",
   "metadata": {},
   "outputs": [],
   "source": [
    "def sol(str):\n",
    "    l=[]\n",
    "    for i in range(0,len(str)):\n",
    "        l.append(str[i])\n",
    "    for j in range(0,len(l)):\n",
    "        if l[j] in l[ :j ]:\n",
    "            l[j] = \"*\" \n",
    "    st=\"\".join(l)        \n",
    "    return st "
   ]
  },
  {
   "cell_type": "code",
   "execution_count": 2,
   "id": "0549cc0b",
   "metadata": {},
   "outputs": [
    {
     "name": "stdout",
     "output_type": "stream",
     "text": [
      "balloon\n",
      "bal*o*n\n"
     ]
    }
   ],
   "source": [
    "a=input()\n",
    "print(sol(a))"
   ]
  },
  {
   "cell_type": "markdown",
   "id": "dd9a995c",
   "metadata": {},
   "source": [
    "## 2. Write a function that takes a number as n input parameter and returns the corresponding text in words; for example, on input 452, the function should return ‘Four Five Two’. Use an indexed list for mapping to digits to their string representation."
   ]
  },
  {
   "cell_type": "code",
   "execution_count": 3,
   "id": "16088215",
   "metadata": {},
   "outputs": [],
   "source": [
    "def sol(list):\n",
    "    d={\"0\":\"zero\",\"1\":\"one\",\"2\":\"two\",\"3\":\"three\",\"4\":\"four\",\"5\":\"five\",\"6\":\"six\",\"7\":\"seven\",\"8\":\"eight\",\"9\":\"nine\"}\n",
    "    k=[]\n",
    "    for i in list:\n",
    "        k.append(d[i])\n",
    "    return k"
   ]
  },
  {
   "cell_type": "code",
   "execution_count": 4,
   "id": "ac64cbfe",
   "metadata": {},
   "outputs": [
    {
     "name": "stdout",
     "output_type": "stream",
     "text": [
      "94\n",
      "['nine', 'four']\n"
     ]
    }
   ],
   "source": [
    "inp = input()\n",
    "print(sol(inp))"
   ]
  },
  {
   "cell_type": "markdown",
   "id": "a73ce358",
   "metadata": {},
   "source": [
    "## 3. Write a recursive function that takes x value as an input parameter and print x-digit strictly in increasing number. [i.e. x = 6 than output 67891011]"
   ]
  },
  {
   "cell_type": "code",
   "execution_count": 5,
   "id": "024a59bf",
   "metadata": {},
   "outputs": [],
   "source": [
    "def rec(a,b):\n",
    "    if b < a*2: \n",
    "        print(b,end = \" \")\n",
    "        return rec(a,b+1)\n",
    "    else:\n",
    "        return \"\""
   ]
  },
  {
   "cell_type": "code",
   "execution_count": 6,
   "id": "a01f25ee",
   "metadata": {},
   "outputs": [
    {
     "name": "stdout",
     "output_type": "stream",
     "text": [
      "3\n",
      "3 4 5 \n"
     ]
    }
   ],
   "source": [
    "a=int(input())\n",
    "print(rec(a,a))"
   ]
  },
  {
   "cell_type": "code",
   "execution_count": null,
   "id": "5a2c2db5",
   "metadata": {},
   "outputs": [],
   "source": []
  }
 ],
 "metadata": {
  "kernelspec": {
   "display_name": "Python [conda env:py3-TF2.0]",
   "language": "python",
   "name": "conda-env-py3-TF2.0-py"
  },
  "language_info": {
   "codemirror_mode": {
    "name": "ipython",
    "version": 3
   },
   "file_extension": ".py",
   "mimetype": "text/x-python",
   "name": "python",
   "nbconvert_exporter": "python",
   "pygments_lexer": "ipython3",
   "version": "3.9.15"
  }
 },
 "nbformat": 4,
 "nbformat_minor": 5
}
