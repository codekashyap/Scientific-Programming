{
 "cells": [
  {
   "cell_type": "markdown",
   "id": "deaf2d3b",
   "metadata": {},
   "source": [
    "##  Write a python program that reads the contents of the file poem.txt and count the number of alphabets, blank spaces, lowercase letters and uppercase letters, the number of words starting from vowel and the number of occurrences of each word in the file "
   ]
  },
  {
   "cell_type": "code",
   "execution_count": 52,
   "id": "66d0089e",
   "metadata": {},
   "outputs": [],
   "source": [
    "pk=open(\"poem.txt\",\"r\")"
   ]
  },
  {
   "cell_type": "code",
   "execution_count": 62,
   "id": "9cf1173a",
   "metadata": {},
   "outputs": [
    {
     "name": "stdout",
     "output_type": "stream",
     "text": [
      "\n"
     ]
    }
   ],
   "source": [
    "print(pk.read())"
   ]
  },
  {
   "cell_type": "markdown",
   "id": "ad09d35e",
   "metadata": {},
   "source": [
    "## Count the word in the poem:"
   ]
  },
  {
   "cell_type": "code",
   "execution_count": 54,
   "id": "eaf6199b",
   "metadata": {},
   "outputs": [
    {
     "name": "stdout",
     "output_type": "stream",
     "text": [
      "['My', 'heart', 'leaps', 'up', 'wrote', 'by', 'William', 'Wordsworth\\n', 'My', 'heart', 'leaps', 'up', 'when', 'I', 'behold\\n', 'A', 'rainbow', 'in', 'the', 'sky:\\n', 'So', 'was', 'it', 'when', 'my', 'life', 'began;\\n', 'So', 'is', 'it', 'now', 'I', 'am', 'a', 'man;\\n', 'So', 'be', 'it', 'when', 'I', 'shall', 'grow', 'old,\\n', 'Or', 'let', 'me', 'die!\\n', 'The', 'Child', 'is', 'father', 'of', 'the', 'Man;\\n', 'And', 'I', 'could', 'wish', 'my', 'days', 'to', 'be\\n', 'Bound', 'each', 'to', 'each', 'by', 'natural', 'piety.\\n', 'End']\n",
      "Total numbers of word in the poem : 70\n"
     ]
    }
   ],
   "source": [
    "wl=[]\n",
    "wol=0\n",
    "pk=open(\"poem.txt\",\"r\")\n",
    "for l in pk:\n",
    "    k=l.split(' ')\n",
    "    wol+=len(k)\n",
    "    for j in range(len(k)):\n",
    "        wl.append(k[j])\n",
    "print(wl)\n",
    "print(\"Total numbers of word in the poem :\",wol)"
   ]
  },
  {
   "cell_type": "markdown",
   "id": "c0b4972e",
   "metadata": {},
   "source": [
    "## Count the whitespaces in the poem:"
   ]
  },
  {
   "cell_type": "code",
   "execution_count": 63,
   "id": "c1091ac2",
   "metadata": {},
   "outputs": [
    {
     "name": "stdout",
     "output_type": "stream",
     "text": [
      "No of blankspace 59\n"
     ]
    }
   ],
   "source": [
    "cws=0\n",
    "pk=open(\"poem.txt\",\"r\")\n",
    "for j in pk:\n",
    "    for k in range(len(j)):\n",
    "        if j[k] == \" \":\n",
    "            cws+=1\n",
    "print(\"No of blankspace\",cws)            \n",
    "    "
   ]
  },
  {
   "cell_type": "markdown",
   "id": "f3ac7d80",
   "metadata": {},
   "source": [
    "## Count the lowercase letters  in the poem:"
   ]
  },
  {
   "cell_type": "code",
   "execution_count": 73,
   "id": "bfadd682",
   "metadata": {},
   "outputs": [
    {
     "name": "stdout",
     "output_type": "stream",
     "text": [
      "No of lowercase letters 210\n"
     ]
    }
   ],
   "source": [
    "import string\n",
    "l=list(string.ascii_lowercase)\n",
    "cll=0\n",
    "pk=open(\"poem.txt\",\"r\")\n",
    "for j in pk:\n",
    "    for k in range(len(j)):\n",
    "        for p in range(len(j[k])):\n",
    "            if j[k][p] in l:\n",
    "                cll+=1\n",
    "print(\"No of lowercase letters\",cll)"
   ]
  },
  {
   "cell_type": "markdown",
   "id": "c95c1fe1",
   "metadata": {},
   "source": [
    "## Count the lowercase letters in the poem:"
   ]
  },
  {
   "cell_type": "code",
   "execution_count": 76,
   "id": "d522e7a0",
   "metadata": {},
   "outputs": [
    {
     "name": "stdout",
     "output_type": "stream",
     "text": [
      "No of uppercase letters 19\n"
     ]
    }
   ],
   "source": [
    "import string\n",
    "l1=list(string.ascii_uppercase)\n",
    "cul=0\n",
    "pk=open(\"poem.txt\",\"r\")\n",
    "for j in pk:\n",
    "    for k in range(len(j)):\n",
    "        for p in range(len(j[k])):\n",
    "            if j[k][p] in l1:\n",
    "                cul+=1\n",
    "print(\"No of uppercase letters\",cul)"
   ]
  },
  {
   "cell_type": "markdown",
   "id": "960f80f1",
   "metadata": {},
   "source": [
    "## The number of words starting from vowel:"
   ]
  },
  {
   "cell_type": "code",
   "execution_count": 81,
   "id": "f2003453",
   "metadata": {},
   "outputs": [
    {
     "name": "stdout",
     "output_type": "stream",
     "text": [
      "No of vowel letters 77\n"
     ]
    }
   ],
   "source": [
    "v=[\"a\",\"e\",\"i\",\"o\",\"u\"]\n",
    "cv=0\n",
    "pk=open(\"poem.txt\",\"r\")\n",
    "for j in pk:\n",
    "    for k in range(len(j)):\n",
    "        if j[k][0] in v:\n",
    "            cv += 1\n",
    "print(\"No of vowel letters\",cv)"
   ]
  },
  {
   "cell_type": "markdown",
   "id": "e2ee687b",
   "metadata": {},
   "source": [
    "## The number of occurrences of each word in the file:"
   ]
  },
  {
   "cell_type": "code",
   "execution_count": 84,
   "id": "3fa35676",
   "metadata": {},
   "outputs": [
    {
     "name": "stdout",
     "output_type": "stream",
     "text": [
      "{'My': 1, 'heart': 1, 'leaps': 1, 'up': 1, 'wrote': 0, 'by': 1, 'William': 0, 'Wordsworth\\n': 0, 'when': 2, 'I': 3, 'behold\\n': 0, 'A': 0, 'rainbow': 0, 'in': 0, 'the': 1, 'sky:\\n': 0, 'So': 2, 'was': 0, 'it': 2, 'my': 1, 'life': 0, 'began;\\n': 0, 'is': 1, 'now': 0, 'am': 0, 'a': 0, 'man;\\n': 0, 'be': 0, 'shall': 0, 'grow': 0, 'old,\\n': 0, 'Or': 0, 'let': 0, 'me': 0, 'die!\\n': 0, 'The': 0, 'Child': 0, 'father': 0, 'of': 0, 'Man;\\n': 0, 'And': 0, 'could': 0, 'wish': 0, 'days': 0, 'to': 1, 'be\\n': 0, 'Bound': 0, 'each': 1, 'natural': 0, 'piety.\\n': 0, 'End': 0}\n"
     ]
    }
   ],
   "source": [
    "d={}\n",
    "pk=open(\"poem.txt\",\"r\")\n",
    "for j in pk:\n",
    "    tt=j.split(\" \")\n",
    "    for k in range(len(tt)):\n",
    "        if tt[k] not in d:\n",
    "            d[tt[k]] = 0\n",
    "        elif tt[k] in d:\n",
    "            d[tt[k]] +=1\n",
    "        elif tt[k] == \" \":\n",
    "            pass\n",
    "print(d)"
   ]
  },
  {
   "cell_type": "code",
   "execution_count": null,
   "id": "25637d24",
   "metadata": {},
   "outputs": [],
   "source": []
  }
 ],
 "metadata": {
  "kernelspec": {
   "display_name": "Python 3 (ipykernel)",
   "language": "python",
   "name": "python3"
  },
  "language_info": {
   "codemirror_mode": {
    "name": "ipython",
    "version": 3
   },
   "file_extension": ".py",
   "mimetype": "text/x-python",
   "name": "python",
   "nbconvert_exporter": "python",
   "pygments_lexer": "ipython3",
   "version": "3.9.13"
  }
 },
 "nbformat": 4,
 "nbformat_minor": 5
}
