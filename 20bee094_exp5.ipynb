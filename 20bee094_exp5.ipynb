{
 "cells": [
  {
   "cell_type": "markdown",
   "id": "a0f38b47",
   "metadata": {},
   "source": [
    "## Experiment-5"
   ]
  },
  {
   "cell_type": "markdown",
   "id": "7f58b5bb",
   "metadata": {},
   "source": [
    "A magic square is a matrix all of whose row sums, column sums and the sums\n",
    "of the two diagonals are the same. (One diagonal of a matrix goes from the\n",
    "top left to the bottom right, the other diagonal goes from top right to bottom\n",
    "left.) Show by direct computation that if the matrix A is given by\n",
    "A=np.array([[17, 24, 1, 8, 15],\n",
    "[23, 5, 7, 14, 16],\n",
    "[ 4, 6, 13, 20, 22],\n",
    "[10, 12, 19, 21, 3],\n",
    "[11, 18, 25, 2, 9]])\n",
    "The matrix A has 5 row sums (one for each row), 5 column sums (one for each column)\n",
    "and two diagonal sums. These 12 sums should all be exactly the same, and you could\n",
    "verify that they are the same by printing them and “seeing” that they are the same. It\n",
    "is easy to miss small differences among so many numbers, though. Instead, verify that\n",
    "A is a magic square by constructing the 5 column sums and computing the maximum\n",
    "and minimum values of the column sums. Do the same for the 5 row sums, and\n",
    "compute the two diagonal sums. Check that these six values are the same. If the\n",
    "maximum and minimum values are the same, the flyswatter principle says that all\n",
    "values are the same."
   ]
  },
  {
   "cell_type": "code",
   "execution_count": null,
   "id": "a55de32e",
   "metadata": {},
   "outputs": [],
   "source": [
    "import numpy as np"
   ]
  },
  {
   "cell_type": "code",
   "execution_count": null,
   "id": "7700bec0",
   "metadata": {},
   "outputs": [],
   "source": [
    "A=np.array([[17, 24, 1, 8, 15],[23, 5, 7, 14, 16],[ 4, 6, 13, 20, 22],[10, 12, 19, 21, 3],\n",
    "[11, 18, 25, 2, 9]])"
   ]
  },
  {
   "cell_type": "code",
   "execution_count": null,
   "id": "6736da1f",
   "metadata": {},
   "outputs": [],
   "source": [
    "c=(np.sum(A,axis=0))\n",
    "c"
   ]
  },
  {
   "cell_type": "code",
   "execution_count": null,
   "id": "0fc5d05c",
   "metadata": {},
   "outputs": [],
   "source": [
    "r=(np.sum(A,axis=1))\n",
    "r"
   ]
  },
  {
   "cell_type": "code",
   "execution_count": null,
   "id": "43e526f2",
   "metadata": {},
   "outputs": [],
   "source": [
    "d_sum1=np.trace(A,offset=0,axis1=0,axis2=1,dtype=None, out=None)\n",
    "d_sum1"
   ]
  },
  {
   "cell_type": "code",
   "execution_count": null,
   "id": "afbb815a",
   "metadata": {},
   "outputs": [],
   "source": [
    "d_sum2=np.trace(A,offset=0,axis1=1,axis2=0,dtype=None, out=None)\n",
    "d_sum2"
   ]
  },
  {
   "cell_type": "code",
   "execution_count": null,
   "id": "281237ad",
   "metadata": {},
   "outputs": [],
   "source": [
    "if len(set(c)) == 1 and len(set(r)) == 1:\n",
    "    if (c[0] == r[0] == d_sum1 == d_sum2):\n",
    "        print(\"A is magicalll.....\")\n",
    "else:\n",
    "    print(\"A is not magical\")"
   ]
  },
  {
   "cell_type": "markdown",
   "id": "b29e2dff",
   "metadata": {},
   "source": []
  },
  {
   "cell_type": "markdown",
   "id": "4a6ef165",
   "metadata": {},
   "source": [
    "### Part 2:"
   ]
  },
  {
   "cell_type": "markdown",
   "id": "ec3b6d32",
   "metadata": {},
   "source": [
    "Create scientific calculator using numpy."
   ]
  },
  {
   "cell_type": "code",
   "execution_count": null,
   "id": "de38963f",
   "metadata": {},
   "outputs": [],
   "source": [
    "def matadd(mat1,mat2):\n",
    "    return np.sum(mat1,mat2)\n",
    "def matsub(mat1,mat2):\n",
    "    return np.substract(mat1,mat2)\n",
    "def matmul(mat1,mat2):\n",
    "    return np.dot(mat1,mat2)\n",
    "def matdiv(mat1,mat2):\n",
    "    return np.divide(mat1,mat2)\n",
    "def matlog(mat1):\n",
    "    return np.log(mat1)\n",
    "def matfac(mat1):\n",
    "    return np.math.factorial(mat1)\n",
    "def matsqrt(mat1):\n",
    "    return np.sqrt(mat1)\n",
    "def matsin(mat1):\n",
    "    return np.sin(mat1)\n",
    "def matcos(mat1):\n",
    "    return np.cos(mat1)\n",
    "def mattan(mat1):\n",
    "    return np.tan(mat1)\n",
    "\n",
    "l1=list(int(input(\"L1:\")))\n",
    "l2=list(int(input(\"L2:\")))\n",
    "a=int(input())\n",
    "b=int(input())\n",
    "mat1=np.reshape(l1,(a,b))\n",
    "mat2=np.reshape(l2,(a,b))\n"
   ]
  },
  {
   "cell_type": "code",
   "execution_count": null,
   "id": "2875a6a3",
   "metadata": {},
   "outputs": [],
   "source": []
  }
 ],
 "metadata": {
  "kernelspec": {
   "display_name": "Python 3 (ipykernel)",
   "language": "python",
   "name": "python3"
  },
  "language_info": {
   "codemirror_mode": {
    "name": "ipython",
    "version": 3
   },
   "file_extension": ".py",
   "mimetype": "text/x-python",
   "name": "python",
   "nbconvert_exporter": "python",
   "pygments_lexer": "ipython3",
   "version": "3.9.13"
  }
 },
 "nbformat": 4,
 "nbformat_minor": 5
}
