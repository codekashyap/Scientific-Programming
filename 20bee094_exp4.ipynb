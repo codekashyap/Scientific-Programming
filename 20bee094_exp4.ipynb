{
 "cells": [
  {
   "cell_type": "markdown",
   "id": "d3e5a8a3",
   "metadata": {},
   "source": [
    "## Part1\n",
    "1. Define a class Bank that keeps track of bank customers. The class should contain the following data member:\n",
    "Data member nameDetails\n",
    "Name Name of customer\n",
    "accountNum Account Number\n",
    "Type Account Type\n",
    "Amount Amount deposited in the bank account\n",
    "Interest Interest earned by the customer\n",
    " The class should support the following methods:\n",
    "    • __init__ for initializing the data members.\n",
    "1\n",
    "• deposit for depositing money in the members.\n",
    "• withdrawal for withdrawing money from the account\n",
    "• findInterest that determines the interest on the basis of amount in the account\n",
    "Amount Interest per annum (%)\n",
    ">= 5,00,000 8\n",
    ">= 3,00,000 and < 5,00,000 7\n",
    ">=1,00,000 and <3,00,000 5\n",
    "<1,00,000 3\n"
   ]
  },
  {
   "cell_type": "code",
   "execution_count": 1,
   "id": "094961b4",
   "metadata": {},
   "outputs": [],
   "source": [
    "class bank:\n",
    "    def __init__(self,name,accountNum,type,amount):\n",
    "        self.name = name\n",
    "        self.accountNum = accountNum\n",
    "        self.type = type\n",
    "        self.amount = amount\n",
    "        self.interest = 0\n",
    "        \n",
    "    def deposit(self,deposit):\n",
    "        self.amount += deposit\n",
    "    \n",
    "    def withdrawal(self, withdrawal):\n",
    "        self.amount -= withdrawal\n",
    "        \n",
    "    def findInterest(self):\n",
    "        s= self.amount\n",
    "        if s >= 500000 :\n",
    "            self.Interest = 8\n",
    "        elif s >=300000 and s < 500000:\n",
    "            self.Interest = 7\n",
    "        elif s >=100000 and s < 300000:\n",
    "            self.Interest = 5\n",
    "        elif s <100000:\n",
    "            self.Interest = 3\n",
    "        print(self.Interest)\n",
    "        "
   ]
  },
  {
   "cell_type": "code",
   "execution_count": 2,
   "id": "37e4c7c1",
   "metadata": {},
   "outputs": [
    {
     "name": "stdout",
     "output_type": "stream",
     "text": [
      "Your Interest rate is:\n",
      "3\n"
     ]
    }
   ],
   "source": [
    "kashyap= bank('S.Priyanshu',24070840,'Saving',10000)\n",
    "print('Your Interest rate is:')\n",
    "kashyap.findInterest()"
   ]
  },
  {
   "cell_type": "markdown",
   "id": "df41a531",
   "metadata": {},
   "source": [
    "## Part 2"
   ]
  },
  {
   "cell_type": "markdown",
   "id": "b6ca62df",
   "metadata": {},
   "source": [
    "Define a base class Person, having attributes name, birthdate and city. Define \n",
    "the class Student that derives from Person class which is having attributes like \n",
    "rollno, branch, totalMarks and year as data member. The class should contain \n",
    "the instance method __init__ and the abstract method percentage. Define two \n",
    "classes Grad and PostGrad which inherit from the base class Student. Both the \n",
    "classes should define their __init__ method which asks user t enter totalMarks \n",
    "value and should override the abstract method percentage of the superclass. \n",
    "Note that totalMarks obtained are out of 600 and 400 for Grad and PostGrad \n",
    "classes respectively."
   ]
  },
  {
   "cell_type": "code",
   "execution_count": 2,
   "id": "6426ac26",
   "metadata": {},
   "outputs": [],
   "source": [
    "from abc import ABC, abstractmethod\n",
    "\n",
    "class Person:\n",
    "    def __init__(self, name, birthdate, city):\n",
    "        self.name = name\n",
    "        self.birthdate = birthdate\n",
    "        self.city = city\n",
    "\n",
    "class Student(Person, ABC):\n",
    "    def __init__(self, name, birthdate, city, rollno, branch, year):\n",
    "        super().__init__(name, birthdate, city)\n",
    "        self.rollno = rollno\n",
    "        self.branch = branch\n",
    "        self.year = year\n",
    "\n",
    "    @abstractmethod\n",
    "    def percentage(self):\n",
    "        pass\n",
    "\n",
    "class Grad(Student):\n",
    "    def __init__(self, name, birthdate, city, rollno, branch, year):\n",
    "        super().__init__(name, birthdate, city, rollno, branch, year)\n",
    "        self.totalMarks = int(input(\"Enter totalMarks (out of 600): \"))\n",
    "\n",
    "    def percentage(self):\n",
    "        return (self.totalMarks / 600) * 100\n",
    "\n",
    "class PostGrad(Student):\n",
    "    def __init__(self, name, birthdate, city, rollno, branch, year):\n",
    "        super().__init__(name, birthdate, city, rollno, branch, year)\n",
    "        self.totalMarks = int(input(\"Enter totalMarks (out of 400): \"))\n",
    "\n",
    "    def percentage(self):\n",
    "        return (self.totalMarks / 400) * 100\n"
   ]
  },
  {
   "cell_type": "code",
   "execution_count": 3,
   "id": "7acd0639",
   "metadata": {},
   "outputs": [
    {
     "name": "stdout",
     "output_type": "stream",
     "text": [
      "Enter totalMarks (out of 600): 567\n"
     ]
    },
    {
     "data": {
      "text/plain": [
       "94.5"
      ]
     },
     "execution_count": 3,
     "metadata": {},
     "output_type": "execute_result"
    }
   ],
   "source": [
    "kashyap= Grad('S.Priyanshu',24070840,'Surat','20bee094','electrical',2024)\n",
    "kashyap.percentage()"
   ]
  },
  {
   "cell_type": "code",
   "execution_count": null,
   "id": "2a33f809",
   "metadata": {},
   "outputs": [],
   "source": []
  }
 ],
 "metadata": {
  "kernelspec": {
   "display_name": "Python [conda env:py3-TF2.0]",
   "language": "python",
   "name": "conda-env-py3-TF2.0-py"
  },
  "language_info": {
   "codemirror_mode": {
    "name": "ipython",
    "version": 3
   },
   "file_extension": ".py",
   "mimetype": "text/x-python",
   "name": "python",
   "nbconvert_exporter": "python",
   "pygments_lexer": "ipython3",
   "version": "3.9.15"
  }
 },
 "nbformat": 4,
 "nbformat_minor": 5
}
