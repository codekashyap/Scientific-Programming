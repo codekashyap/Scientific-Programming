{
 "cells": [
  {
   "cell_type": "markdown",
   "metadata": {},
   "source": [
    "## Write a function areaTriangle that takes the lengths of three sides of the triangle as input parameters and returns the area of the triangle as an output. Also, assert that the sum of the length of any two sides is higher than the third side."
   ]
  },
  {
   "cell_type": "code",
   "execution_count": null,
   "metadata": {},
   "outputs": [],
   "source": [
    "import math;\n",
    "l1=5\n",
    "l2=8\n",
    "l3=12\n",
    "s=(l1+l2+l3)/2\n",
    "def area(a,b,c):\n",
    "    ar=math.sqrt(s*(s-a)*(s-b)*(s-c))\n",
    "    return ar;\n",
    "A=area(l1,l2,l3)\n",
    "print(A)\n"
   ]
  },
  {
   "cell_type": "markdown",
   "metadata": {},
   "source": [
    "## Write a python program for three different scientific formulas of your own choice."
   ]
  },
  {
   "cell_type": "code",
   "execution_count": null,
   "metadata": {},
   "outputs": [],
   "source": [
    "arr=['zero','one','two','three','four','five','six','seven','eight','nine']\n",
    "a=int(input())\n",
    "def dtos(a):\n",
    "    if(a==0):\n",
    "        return \"\"\n",
    "    else:\n",
    "        tans=str(arr[int(a%10)])\n",
    "        ans=str(dtos(int(a/10))+\" \"+ arr[int(a%10)]) \n",
    "        return ans\n",
    "    \n",
    "A=dtos(a)\n",
    "print(A)"
   ]
  },
  {
   "cell_type": "markdown",
   "metadata": {},
   "source": [
    "## Write a function that takes two numbers as input parameters and returns True or False depending on whether they are co-primes. Two numbers are said to be co-prime if they do not have any common divisor other than one."
   ]
  },
  {
   "cell_type": "code",
   "execution_count": null,
   "metadata": {},
   "outputs": [],
   "source": [
    "def coprime(a,b):\n",
    "    if(a>b):\n",
    "        for x in range(2,b+1):\n",
    "            if a%x==0 and b%x==0:\n",
    "                return False\n",
    "            else:\n",
    "                return True\n",
    "    else:\n",
    "        for x in range(2,a+1):\n",
    "            if a%x==0 and b%x==0:\n",
    "                return False\n",
    "            else:\n",
    "                return True\n",
    "a=3\n",
    "b=6\n",
    "c=coprime(a,b)\n",
    "print(c)"
   ]
  },
  {
   "cell_type": "code",
   "execution_count": null,
   "metadata": {},
   "outputs": [],
   "source": []
  }
 ],
 "metadata": {
  "kernelspec": {
   "display_name": "Python 3 (ipykernel)",
   "language": "python",
   "name": "python3"
  },
  "language_info": {
   "codemirror_mode": {
    "name": "ipython",
    "version": 3
   },
   "file_extension": ".py",
   "mimetype": "text/x-python",
   "name": "python",
   "nbconvert_exporter": "python",
   "pygments_lexer": "ipython3",
   "version": "3.9.13"
  }
 },
 "nbformat": 4,
 "nbformat_minor": 2
}
