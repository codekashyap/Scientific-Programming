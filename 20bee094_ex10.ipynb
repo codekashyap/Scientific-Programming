{
 "cells": [
  {
   "cell_type": "code",
   "execution_count": null,
   "id": "8259ccc5",
   "metadata": {},
   "outputs": [],
   "source": [
    "import cv2\n",
    "import argparse\n",
    "\n",
    "parser = argparse.ArgumentParser()\n",
    "parser.add_argument(\"video\", help=\"path to the input video\")\n",
    "parser.add_argument(\"frames\", help=\"comma-separated list of frame numbers to extract (e.g. 1,5,10)\")\n",
    "parser.add_argument(\"output\", help=\"path to the output video\")\n",
    "args = parser.parse_args()\n",
    "\n",
    "video = cv2.VideoCapture(ag.video)\n",
    "\n",
    "fps = int(video.get(cv2.CAP_PROP_FPS))\n",
    "frame_size = (int(video.get(cv2.CAP_PROP_FRAME_WIDTH)), int(video.get(cv2.CAP_PROP_FRAME_HEIGHT)))\n",
    "\n",
    "frame_numbers = [int(x) for x in args.frames.split(\",\")]\n",
    "\n",
    "fourcc = cv2.VideoWriter_fourcc(*'mp4v')\n",
    "out_video = cv2.VideoWriter(args.output, fourcc, fps, frame_size)\n",
    "\n",
    "frame_count = 0\n",
    "while True:\n",
    "    ret, frame = video.read()\n",
    "    if not ret:\n",
    "        break\n",
    "    frame_count += 1\n",
    "    if frame_count in frame_numbers:\n",
    "        out_video.write(frame)\n",
    "\n",
    "video.release()\n",
    "out_video.release()\n",
    "cv2.destroyAllWindows()\n"
   ]
  }
 ],
 "metadata": {
  "kernelspec": {
   "display_name": "Python 3 (ipykernel)",
   "language": "python",
   "name": "python3"
  },
  "language_info": {
   "codemirror_mode": {
    "name": "ipython",
    "version": 3
   },
   "file_extension": ".py",
   "mimetype": "text/x-python",
   "name": "python",
   "nbconvert_exporter": "python",
   "pygments_lexer": "ipython3",
   "version": "3.9.13"
  }
 },
 "nbformat": 4,
 "nbformat_minor": 5
}
