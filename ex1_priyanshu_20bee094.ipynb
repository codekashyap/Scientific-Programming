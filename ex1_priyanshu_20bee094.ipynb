{
 "cells": [
  {
   "cell_type": "markdown",
   "id": "8c326b30",
   "metadata": {},
   "source": [
    "## Problem 1 :"
   ]
  },
  {
   "cell_type": "code",
   "execution_count": null,
   "id": "fa25a365",
   "metadata": {},
   "outputs": [],
   "source": [
    "print(\"Good Morning\")"
   ]
  },
  {
   "cell_type": "markdown",
   "id": "39076988",
   "metadata": {},
   "source": [
    "## Problem 2 :"
   ]
  },
  {
   "cell_type": "code",
   "execution_count": null,
   "id": "e27ab4c3",
   "metadata": {},
   "outputs": [],
   "source": [
    "a =int(input(\"Please enter the no : \"))\n",
    "print(a,type(a),\":\",\"Square of the no ->\",a*a,\":\",\"Cube of the no ->\",a*a*a)\n"
   ]
  },
  {
   "cell_type": "markdown",
   "id": "b22e221e",
   "metadata": {},
   "source": [
    "## Prblem 3 :"
   ]
  },
  {
   "cell_type": "code",
   "execution_count": null,
   "id": "4d528af1",
   "metadata": {},
   "outputs": [],
   "source": [
    "name=str(input(\"Enter the name :\"))\n",
    "time=int(input(\"Please Enter the no : \" ))\n",
    "if (1 <= time < 12):\n",
    "    print(\"Good Morning\",name)\n",
    "elif (12 <= time < 16):\n",
    "    print(\"Good Afternoon\",name)\n",
    "elif(16 <= time < 20):\n",
    "    print(\"Good Evening\",name)\n",
    "elif (20<= time <= 24):\n",
    "    print(\"Good Night\",name)\n",
    "else:\n",
    "    print(\"Please Enter appropiate time...Thanks \",name)\n"
   ]
  },
  {
   "cell_type": "markdown",
   "id": "6c4ef7c6",
   "metadata": {},
   "source": [
    "## Problem 4 : "
   ]
  },
  {
   "cell_type": "code",
   "execution_count": null,
   "id": "3b2d585a",
   "metadata": {},
   "outputs": [],
   "source": [
    "r=int(input(\"Enter the radius : \"))\n",
    "print(\"Radius of the Circle is -> \",r,\":\", \" Diameter of the circle -> \", r*2,\":\", \" Area of the Circle -> \", (22/7)*r*r)"
   ]
  },
  {
   "cell_type": "markdown",
   "id": "5e205a95",
   "metadata": {},
   "source": [
    "## Problem 5 :"
   ]
  },
  {
   "cell_type": "code",
   "execution_count": 3,
   "id": "85d38dab",
   "metadata": {},
   "outputs": [
    {
     "name": "stdout",
     "output_type": "stream",
     "text": [
      "Enter Log Id: jksdfwk\n",
      "Enter Password:djhdcwe\n",
      "Wrong Input....Please try again\n",
      "Enter Log Id:fbwejkf\n",
      "Enter Password:asdjgdfc\n",
      "Wrong Input....Please try again\n",
      "Enter Log Id:cjhbqdb\n",
      "Enter Password:sqfkbq\n",
      "Attempt 3 Failed. You are blocked\n"
     ]
    }
   ],
   "source": [
    "logid=str(input(\"Enter Log Id: \"))\n",
    "ps=str(input(\"Enter Password:\" ))\n",
    "if logid == \"nirma\" and ps== \"nirma123\":\n",
    "    print(\"Welcome\")\n",
    "else:\n",
    "    print(\"Wrong Input....Please try again\")\n",
    "    logid=str(input(\"Enter Log Id:\" ))\n",
    "    ps=str(input(\"Enter Password:\"))\n",
    "    if logid == \"nirma\" and ps== \"nirma123\":\n",
    "        print(\"Welcome\")\n",
    "    else:\n",
    "        print(\"Wrong Input....Please try again\")\n",
    "        logid=str(input(\"Enter Log Id:\" ))\n",
    "        ps=str(input(\"Enter Password:\"))\n",
    "        if logid == \"nirma\" and ps== \"nirma123\":\n",
    "            print(\"Welcome\")\n",
    "        else:\n",
    "            print(\"Attempt 3 Failed. You are blocked\")\n",
    "        \n",
    "    \n",
    "    \n",
    "    "
   ]
  },
  {
   "cell_type": "code",
   "execution_count": null,
   "id": "861b5001",
   "metadata": {},
   "outputs": [],
   "source": [
    "count = 0\n",
    "while(count < 4):\n",
    "    count+=1\n",
    "    logid=str(input(\"Enter Log Id: \"))\n",
    "    ps=str(input(\"Enter Password:\" ))\n",
    "    if logid == \"nirma\" and ps== \"nirma123\":\n",
    "        print(\"Welcome\")\n",
    "    else:\n",
    "        print(\"Wrong Input....Please try again\")"
   ]
  }
 ],
 "metadata": {
  "kernelspec": {
   "display_name": "Python 3 (ipykernel)",
   "language": "python",
   "name": "python3"
  },
  "language_info": {
   "codemirror_mode": {
    "name": "ipython",
    "version": 3
   },
   "file_extension": ".py",
   "mimetype": "text/x-python",
   "name": "python",
   "nbconvert_exporter": "python",
   "pygments_lexer": "ipython3",
   "version": "3.9.13"
  }
 },
 "nbformat": 4,
 "nbformat_minor": 5
}
